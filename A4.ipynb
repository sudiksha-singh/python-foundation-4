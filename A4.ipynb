{
 "cells": [
  {
   "cell_type": "code",
   "execution_count": null,
   "id": "67295fbe-f920-4ed0-9edc-ef6f70f633b4",
   "metadata": {},
   "outputs": [],
   "source": [
    "#1\n",
    "#list_name.append(element) "
   ]
  },
  {
   "cell_type": "code",
   "execution_count": null,
   "id": "b6b87d08-9bde-4815-854c-b8b34a719f3e",
   "metadata": {},
   "outputs": [],
   "source": [
    "#2\n",
    "#remove(): Removes a specific element by value from the list.\n",
    "#pop(): Removes an element by index from the list and returns it. If no index is specified, it removes and returns the last element."
   ]
  },
  {
   "cell_type": "code",
   "execution_count": null,
   "id": "ec87d75d-a258-4ade-ae7a-190182b88795",
   "metadata": {},
   "outputs": [],
   "source": [
    "#3\n",
    "my_list = [3, 1, 4, 2, 5]\n",
    "my_list.sort(reverse=True)\n",
    "print(\"Sorted list in descending order:\", my_list)"
   ]
  },
  {
   "cell_type": "code",
   "execution_count": null,
   "id": "f4f6dc78-cefa-40c1-9438-50261a2b1cfd",
   "metadata": {},
   "outputs": [],
   "source": [
    "#4\n",
    "my_list = [1, 2, 3, 2, 4, 2, 5]\n",
    "element_to_count = 2\n",
    "occurrences = my_list.count(element_to_count)\n",
    "print(f\"The number of occurrences of {element_to_count} in the list is:\", occurrences)"
   ]
  },
  {
   "cell_type": "code",
   "execution_count": null,
   "id": "e8d33bf1-afca-488f-95ae-5be738ab0f05",
   "metadata": {},
   "outputs": [],
   "source": [
    "#5\n",
    "my_list = [1, 2, 3, 4, 5]\n",
    "reversed_list = my_list[::-1]\n",
    "print(\"Reversed list:\", reversed_list)"
   ]
  }
 ],
 "metadata": {
  "kernelspec": {
   "display_name": "Python 3 (ipykernel)",
   "language": "python",
   "name": "python3"
  },
  "language_info": {
   "codemirror_mode": {
    "name": "ipython",
    "version": 3
   },
   "file_extension": ".py",
   "mimetype": "text/x-python",
   "name": "python",
   "nbconvert_exporter": "python",
   "pygments_lexer": "ipython3",
   "version": "3.10.8"
  }
 },
 "nbformat": 4,
 "nbformat_minor": 5
}
